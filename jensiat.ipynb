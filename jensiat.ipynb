{
 "cells": [
  {
   "cell_type": "code",
   "execution_count": 10,
   "metadata": {},
   "outputs": [
    {
     "name": "stdout",
     "output_type": "stream",
     "text": [
      "Enter a char:D\n"
     ]
    }
   ],
   "source": [
    "n=input(\"Enter a char:\")"
   ]
  },
  {
   "cell_type": "code",
   "execution_count": 11,
   "metadata": {},
   "outputs": [
    {
     "name": "stdout",
     "output_type": "stream",
     "text": [
      "You selected Miss\n"
     ]
    }
   ],
   "source": [
    "if n=='a' or n=='A':\n",
    "    m=\"Mr\"\n",
    "elif n=='b' or n=='B':\n",
    "    m=\"Lady\"\n",
    "elif n=='d' or n=='D':\n",
    "    m=\"Miss\"\n",
    "elif n=='p' or n=='P':\n",
    "    m=\"Professor\"\n",
    "elif n=='j' or n=='J':\n",
    "    m=\"Excellency\"\n",
    "elif n=='m' or n=='M':\n",
    "    m=\"Wife\"\n",
    "print(\"You selected\",m)"
   ]
  },
  {
   "cell_type": "code",
   "execution_count": null,
   "metadata": {},
   "outputs": [],
   "source": []
  },
  {
   "cell_type": "code",
   "execution_count": null,
   "metadata": {},
   "outputs": [],
   "source": []
  }
 ],
 "metadata": {
  "kernelspec": {
   "display_name": "Python 3",
   "language": "python",
   "name": "python3"
  },
  "language_info": {
   "codemirror_mode": {
    "name": "ipython",
    "version": 3
   },
   "file_extension": ".py",
   "mimetype": "text/x-python",
   "name": "python",
   "nbconvert_exporter": "python",
   "pygments_lexer": "ipython3",
   "version": "3.6.13"
  }
 },
 "nbformat": 4,
 "nbformat_minor": 2
}
